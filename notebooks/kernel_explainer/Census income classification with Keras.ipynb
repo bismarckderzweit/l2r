{
 "cells": [
  {
   "cell_type": "markdown",
   "metadata": {},
   "source": [
    "# Census income classification with Keras\n",
    "\n",
    "To download a copy of this notebook visit [github](https://github.com/slundberg/shap/tree/master/notebooks)."
   ]
  },
  {
   "cell_type": "code",
   "execution_count": 1,
   "metadata": {},
   "outputs": [
    {
     "name": "stderr",
     "output_type": "stream",
     "text": [
      "Using TensorFlow backend.\n"
     ]
    },
    {
     "ename": "ModuleNotFoundError",
     "evalue": "No module named 'shap'",
     "output_type": "error",
     "traceback": [
      "\u001b[0;31m---------------------------------------------------------------------------\u001b[0m",
      "\u001b[0;31mModuleNotFoundError\u001b[0m                       Traceback (most recent call last)",
      "\u001b[0;32m<ipython-input-1-52ac363afa21>\u001b[0m in \u001b[0;36m<module>\u001b[0;34m\u001b[0m\n\u001b[1;32m      4\u001b[0m \u001b[0;32mfrom\u001b[0m \u001b[0mkeras\u001b[0m\u001b[0;34m.\u001b[0m\u001b[0mlayers\u001b[0m\u001b[0;34m.\u001b[0m\u001b[0membeddings\u001b[0m \u001b[0;32mimport\u001b[0m \u001b[0mEmbedding\u001b[0m\u001b[0;34m\u001b[0m\u001b[0m\n\u001b[1;32m      5\u001b[0m \u001b[0;32mfrom\u001b[0m \u001b[0mtqdm\u001b[0m \u001b[0;32mimport\u001b[0m \u001b[0mtqdm\u001b[0m\u001b[0;34m\u001b[0m\u001b[0m\n\u001b[0;32m----> 6\u001b[0;31m \u001b[0;32mimport\u001b[0m \u001b[0mshap\u001b[0m\u001b[0;34m\u001b[0m\u001b[0m\n\u001b[0m\u001b[1;32m      7\u001b[0m \u001b[0;34m\u001b[0m\u001b[0m\n\u001b[1;32m      8\u001b[0m \u001b[0;31m# print the JS visualization code to the notebook\u001b[0m\u001b[0;34m\u001b[0m\u001b[0;34m\u001b[0m\u001b[0m\n",
      "\u001b[0;31mModuleNotFoundError\u001b[0m: No module named 'shap'"
     ]
    }
   ],
   "source": [
    "from sklearn.model_selection import train_test_split\n",
    "from keras.layers import Input, Dense, Flatten, Concatenate, concatenate, Dropout, Lambda\n",
    "from keras.models import Model\n",
    "from keras.layers.embeddings import Embedding\n",
    "from tqdm import tqdm\n",
    "import shap\n",
    "\n",
    "# print the JS visualization code to the notebook\n",
    "shap.initjs()"
   ]
  },
  {
   "cell_type": "markdown",
   "metadata": {},
   "source": [
    "## Load dataset"
   ]
  },
  {
   "cell_type": "code",
   "execution_count": 2,
   "metadata": {},
   "outputs": [],
   "source": [
    "X,y = shap.datasets.adult()\n",
    "X_display,y_display = shap.datasets.adult(display=True)\n",
    "\n",
    "# normalize data (this is important for model convergence)\n",
    "dtypes = list(zip(X.dtypes.index, map(str, X.dtypes)))\n",
    "for k,dtype in dtypes:\n",
    "    if dtype == \"float32\":\n",
    "        X[k] -= X[k].mean()\n",
    "        X[k] /= X[k].std()\n",
    "\n",
    "X_train, X_valid, y_train, y_valid = train_test_split(X, y, test_size=0.2, random_state=7)"
   ]
  },
  {
   "cell_type": "markdown",
   "metadata": {},
   "source": [
    "## Train Keras model"
   ]
  },
  {
   "cell_type": "code",
   "execution_count": 3,
   "metadata": {
    "scrolled": true
   },
   "outputs": [
    {
     "name": "stdout",
     "output_type": "stream",
     "text": [
      "Train on 26048 samples, validate on 6513 samples\n",
      "Epoch 1/50\n",
      "26048/26048 [==============================] - 1s 28us/step - loss: 2.3308 - val_loss: 0.4450\n",
      "Epoch 2/50\n",
      "26048/26048 [==============================] - 0s 8us/step - loss: 1.5018 - val_loss: 0.5353\n",
      "Epoch 3/50\n",
      "26048/26048 [==============================] - 0s 9us/step - loss: 1.3662 - val_loss: 0.5634\n",
      "Epoch 4/50\n",
      "26048/26048 [==============================] - 0s 8us/step - loss: 1.3522 - val_loss: 0.6502\n",
      "Epoch 5/50\n",
      "26048/26048 [==============================] - 0s 8us/step - loss: 1.3053 - val_loss: 0.5451\n",
      "Epoch 6/50\n",
      "26048/26048 [==============================] - 0s 8us/step - loss: 1.2348 - val_loss: 0.5146\n",
      "Epoch 7/50\n",
      "26048/26048 [==============================] - 0s 8us/step - loss: 1.2083 - val_loss: 0.4880\n",
      "Epoch 8/50\n",
      "26048/26048 [==============================] - 0s 9us/step - loss: 1.2280 - val_loss: 0.7679\n",
      "Epoch 9/50\n",
      "26048/26048 [==============================] - 0s 8us/step - loss: 1.1979 - val_loss: 0.4658\n",
      "Epoch 10/50\n",
      "26048/26048 [==============================] - 0s 7us/step - loss: 1.1313 - val_loss: 0.5112\n",
      "Epoch 11/50\n",
      "26048/26048 [==============================] - 0s 8us/step - loss: 1.1138 - val_loss: 0.5580\n",
      "Epoch 12/50\n",
      "26048/26048 [==============================] - 0s 9us/step - loss: 1.2020 - val_loss: 0.4981\n",
      "Epoch 13/50\n",
      "26048/26048 [==============================] - 0s 7us/step - loss: 1.0844 - val_loss: 0.4940\n",
      "Epoch 14/50\n",
      "26048/26048 [==============================] - 0s 10us/step - loss: 1.0802 - val_loss: 0.5090\n",
      "Epoch 15/50\n",
      "26048/26048 [==============================] - 0s 7us/step - loss: 1.0761 - val_loss: 0.5058\n",
      "Epoch 16/50\n",
      "26048/26048 [==============================] - 0s 7us/step - loss: 1.0470 - val_loss: 0.5143\n",
      "Epoch 17/50\n",
      "26048/26048 [==============================] - 0s 7us/step - loss: 1.0285 - val_loss: 0.5553\n",
      "Epoch 18/50\n",
      "26048/26048 [==============================] - 0s 7us/step - loss: 1.0215 - val_loss: 0.5479\n",
      "Epoch 19/50\n",
      "26048/26048 [==============================] - 0s 8us/step - loss: 1.0137 - val_loss: 0.5628\n",
      "Epoch 20/50\n",
      "26048/26048 [==============================] - 0s 8us/step - loss: 1.0022 - val_loss: 0.5426\n",
      "Epoch 21/50\n",
      "26048/26048 [==============================] - 0s 8us/step - loss: 0.9641 - val_loss: 0.5291\n",
      "Epoch 22/50\n",
      "26048/26048 [==============================] - 0s 8us/step - loss: 0.9765 - val_loss: 0.7090\n",
      "Epoch 23/50\n",
      "26048/26048 [==============================] - 0s 8us/step - loss: 1.0097 - val_loss: 0.4819\n",
      "Epoch 24/50\n",
      "26048/26048 [==============================] - 0s 7us/step - loss: 0.9100 - val_loss: 0.4874\n",
      "Epoch 25/50\n",
      "26048/26048 [==============================] - 0s 9us/step - loss: 0.8821 - val_loss: 0.4724\n",
      "Epoch 26/50\n",
      "26048/26048 [==============================] - 0s 9us/step - loss: 0.8653 - val_loss: 0.5671\n",
      "Epoch 27/50\n",
      "26048/26048 [==============================] - 0s 8us/step - loss: 1.0496 - val_loss: 0.6884\n",
      "Epoch 28/50\n",
      "26048/26048 [==============================] - 0s 8us/step - loss: 0.9529 - val_loss: 0.5993\n",
      "Epoch 29/50\n",
      "26048/26048 [==============================] - 0s 7us/step - loss: 0.9255 - val_loss: 0.5297\n",
      "Epoch 30/50\n",
      "26048/26048 [==============================] - 0s 7us/step - loss: 0.8726 - val_loss: 0.4880\n",
      "Epoch 31/50\n",
      "26048/26048 [==============================] - 0s 8us/step - loss: 0.8523 - val_loss: 0.4730\n",
      "Epoch 32/50\n",
      "26048/26048 [==============================] - 0s 7us/step - loss: 0.8526 - val_loss: 0.4683\n",
      "Epoch 33/50\n",
      "26048/26048 [==============================] - 0s 8us/step - loss: 0.7988 - val_loss: 0.4655\n",
      "Epoch 34/50\n",
      "26048/26048 [==============================] - 0s 7us/step - loss: 0.7920 - val_loss: 0.4560\n",
      "Epoch 35/50\n",
      "26048/26048 [==============================] - 0s 7us/step - loss: 0.7629 - val_loss: 0.4449\n",
      "Epoch 36/50\n",
      "26048/26048 [==============================] - 0s 8us/step - loss: 0.7506 - val_loss: 0.4388\n",
      "Epoch 37/50\n",
      "26048/26048 [==============================] - 0s 8us/step - loss: 0.7266 - val_loss: 0.4366\n",
      "Epoch 38/50\n",
      "26048/26048 [==============================] - 0s 7us/step - loss: 0.7460 - val_loss: 0.4239\n",
      "Epoch 39/50\n",
      "26048/26048 [==============================] - 0s 7us/step - loss: 0.7268 - val_loss: 0.4159\n",
      "Epoch 40/50\n",
      "26048/26048 [==============================] - 0s 10us/step - loss: 0.7199 - val_loss: 0.4025\n",
      "Epoch 41/50\n",
      "26048/26048 [==============================] - 0s 9us/step - loss: 0.6725 - val_loss: 0.4090\n",
      "Epoch 42/50\n",
      "26048/26048 [==============================] - 0s 7us/step - loss: 0.7740 - val_loss: 0.4576\n",
      "Epoch 43/50\n",
      "26048/26048 [==============================] - 0s 7us/step - loss: 0.7491 - val_loss: 0.4111\n",
      "Epoch 44/50\n",
      "26048/26048 [==============================] - 0s 7us/step - loss: 0.6639 - val_loss: 0.4068\n",
      "Epoch 45/50\n",
      "26048/26048 [==============================] - 0s 7us/step - loss: 0.6734 - val_loss: 0.4218\n",
      "Epoch 46/50\n",
      "26048/26048 [==============================] - 0s 7us/step - loss: 0.6580 - val_loss: 0.3993\n",
      "Epoch 47/50\n",
      "26048/26048 [==============================] - 0s 7us/step - loss: 0.6516 - val_loss: 0.4000\n",
      "Epoch 48/50\n",
      "26048/26048 [==============================] - 0s 7us/step - loss: 0.6464 - val_loss: 0.3989\n",
      "Epoch 49/50\n",
      "26048/26048 [==============================] - 0s 7us/step - loss: 0.6258 - val_loss: 0.4004\n",
      "Epoch 50/50\n",
      "26048/26048 [==============================] - 0s 7us/step - loss: 0.6157 - val_loss: 0.4005\n"
     ]
    },
    {
     "data": {
      "text/plain": [
       "<keras.callbacks.History at 0x10d720390>"
      ]
     },
     "execution_count": 3,
     "metadata": {},
     "output_type": "execute_result"
    }
   ],
   "source": [
    "# build model\n",
    "input_els = []\n",
    "encoded_els = []\n",
    "for k,dtype in dtypes:\n",
    "    input_els.append(Input(shape=(1,)))\n",
    "    if dtype == \"int8\":\n",
    "        e = Flatten()(Embedding(X_train[k].max()+1, 1)(input_els[-1]))\n",
    "    else:\n",
    "        e = input_els[-1]\n",
    "    encoded_els.append(e)\n",
    "encoded_els = concatenate(encoded_els)\n",
    "layer1 = Dropout(0.5)(Dense(100, activation=\"relu\")(encoded_els))\n",
    "out = Dense(1)(layer1)\n",
    "\n",
    "# train model\n",
    "regression = Model(inputs=input_els, outputs=[out])\n",
    "regression.compile(optimizer=\"adam\", loss='binary_crossentropy')\n",
    "regression.fit(\n",
    "    [X_train[k].values for k,t in dtypes],\n",
    "    y_train,\n",
    "    epochs=50,\n",
    "    batch_size=512,\n",
    "    shuffle=True,\n",
    "    validation_data=([X_valid[k].values for k,t in dtypes], y_valid)\n",
    ")"
   ]
  },
  {
   "cell_type": "markdown",
   "metadata": {},
   "source": [
    "## Explain predictions\n",
    "\n",
    "Here we take the Keras model trained above and explain why it makes different predictions for different individuals. SHAP expects model functions to take a 2D numpy array as input, so we define a wrapper function around the original Keras predict function."
   ]
  },
  {
   "cell_type": "code",
   "execution_count": 4,
   "metadata": {},
   "outputs": [],
   "source": [
    "def f(X):\n",
    "    return regression.predict([X[:,i] for i in range(X.shape[1])]).flatten()"
   ]
  },
  {
   "cell_type": "markdown",
   "metadata": {},
   "source": [
    "### Explain a single prediction\n",
    "\n",
    "Here we use a selection of 50 samples from the dataset to represent \"typical\" feature values, and then use 500 perterbation samples to estimate the SHAP values for a given prediction. Note that this requires 500 * 50 evaluations of the model."
   ]
  },
  {
   "cell_type": "code",
   "execution_count": 5,
   "metadata": {},
   "outputs": [
    {
     "data": {
      "text/html": [
       "\n",
       "<div id='iQ3YUEQDKTEBM2BEG399T'>\n",
       "<div style='color: #900; text-align: center;'>\n",
       "  <b>Visualization omitted, Javascript library not loaded!</b><br>\n",
       "  Have you run `initjs()` in this notebook? If this notebook was from another\n",
       "  user you must also trust this notebook (File -> Trust notebook). If you are viewing\n",
       "  this notebook on github the Javascript has been stripped for security.\n",
       "</div></div>\n",
       " <script>\n",
       "   if (window.IML) IML.ReactDom.render(\n",
       "    IML.React.createElement(IML.AdditiveForceVisualizer, {\"outNames\": [\"output value\"], \"baseValue\": 0.2532635764032603, \"outValue\": 0.22392335534095764, \"link\": \"identity\", \"featureNames\": [\"Age\", \"Workclass\", \"Education-Num\", \"Marital Status\", \"Occupation\", \"Relationship\", \"Race\", \"Sex\", \"Capital Gain\", \"Capital Loss\", \"Hours per week\", \"Country\"], \"features\": {\"0\": {\"effect\": 0.018849495531251745, \"value\": 38.0}, \"2\": {\"effect\": -0.07423436137256097, \"value\": 9.0}, \"4\": {\"effect\": 0.0117837868500167, \"value\": \" Sales\"}, \"5\": {\"effect\": -0.14804517240358878, \"value\": \" Not-in-family\"}, \"7\": {\"effect\": 0.016250602409717, \"value\": \" Male\"}, \"8\": {\"effect\": -0.03190582888041585, \"value\": 0.0}, \"10\": {\"effect\": 0.17796125680327748, \"value\": 80.0}}, \"plot_cmap\": \"RdBu\", \"labelMargin\": 20}),\n",
       "    document.getElementById('iQ3YUEQDKTEBM2BEG399T')\n",
       "  );\n",
       "</script>"
      ],
      "text/plain": [
       "<IPython.core.display.HTML object>"
      ]
     },
     "execution_count": 5,
     "metadata": {},
     "output_type": "execute_result"
    }
   ],
   "source": [
    "explainer = shap.KernelExplainer(f, X.iloc[:50,:])\n",
    "shap_values = explainer.shap_values(X.iloc[299,:], nsamples=500)\n",
    "shap.force_plot(explainer.expected_value, shap_values, X_display.iloc[299,:])"
   ]
  },
  {
   "cell_type": "markdown",
   "metadata": {},
   "source": [
    "### Explain many predictions\n",
    "\n",
    "Here we repeat the above explanation process for 50 individuals. Since we are using a sampling based approximation each explanation can take a couple seconds depending on your machine setup."
   ]
  },
  {
   "cell_type": "code",
   "execution_count": 6,
   "metadata": {},
   "outputs": [
    {
     "name": "stderr",
     "output_type": "stream",
     "text": [
      "100%|██████████| 50/50 [00:53<00:00,  1.08s/it]\n"
     ]
    }
   ],
   "source": [
    "shap_values50 = explainer.shap_values(X.iloc[280:330,:], nsamples=500)"
   ]
  },
  {
   "cell_type": "code",
   "execution_count": 7,
   "metadata": {},
   "outputs": [
    {
     "data": {
      "text/html": [
       "\n",
       "<div id='iE99P2B0ZLIVBHS0UMMSH'>\n",
       "<div style='color: #900; text-align: center;'>\n",
       "  <b>Visualization omitted, Javascript library not loaded!</b><br>\n",
       "  Have you run `initjs()` in this notebook? If this notebook was from another\n",
       "  user you must also trust this notebook (File -> Trust notebook). If you are viewing\n",
       "  this notebook on github the Javascript has been stripped for security.\n",
       "</div></div>\n",
       " <script>\n",
       "   if (window.IML) IML.ReactDom.render(\n",
       "    IML.React.createElement(IML.AdditiveForceArrayVisualizer, {\"outNames\": [\"output value\"], \"baseValue\": 0.2532635764032603, \"link\": \"identity\", \"featureNames\": [\"Age\", \"Workclass\", \"Education-Num\", \"Marital Status\", \"Occupation\", \"Relationship\", \"Race\", \"Sex\", \"Capital Gain\", \"Capital Loss\", \"Hours per week\", \"Country\"], \"explanations\": [{\"outValue\": -0.6882269978523254, \"simIndex\": 7.0, \"features\": {\"0\": {\"effect\": -0.1551558063202939, \"value\": 22.0}, \"1\": {\"effect\": 0.0, \"value\": \" Private\"}, \"2\": {\"effect\": 0.23536524091868954, \"value\": 13.0}, \"3\": {\"effect\": -0.09717496957138444, \"value\": \" Never-married\"}, \"4\": {\"effect\": 0.0, \"value\": \" Prof-specialty\"}, \"5\": {\"effect\": -0.25350559854435295, \"value\": \" Not-in-family\"}, \"6\": {\"effect\": 0.0, \"value\": \" White\"}, \"7\": {\"effect\": -0.082342828533849, \"value\": \" Female\"}, \"8\": {\"effect\": -0.03229698419891694, \"value\": 0.0}, \"9\": {\"effect\": 0.0, \"value\": 0.0}, \"10\": {\"effect\": -0.556379628005478, \"value\": 15.0}, \"11\": {\"effect\": 0.0, \"value\": \" Germany\"}}}, {\"outValue\": 0.7308846116065979, \"simIndex\": 38.0, \"features\": {\"0\": {\"effect\": 0.04516624099253139, \"value\": 42.0}, \"1\": {\"effect\": 0.0, \"value\": \" Local-gov\"}, \"2\": {\"effect\": 0.0, \"value\": 10.0}, \"3\": {\"effect\": 0.045193245331216186, \"value\": \" Married-civ-spouse\"}, \"4\": {\"effect\": 0.004094365484233142, \"value\": \" Craft-repair\"}, \"5\": {\"effect\": 0.08276995551894867, \"value\": \" Husband\"}, \"6\": {\"effect\": 0.0, \"value\": \" White\"}, \"7\": {\"effect\": 0.015745072747368194, \"value\": \" Male\"}, \"8\": {\"effect\": 0.24868406444724578, \"value\": 5178.0}, \"9\": {\"effect\": 0.0, \"value\": 0.0}, \"10\": {\"effect\": 0.03596809068179424, \"value\": 40.0}, \"11\": {\"effect\": 0.0, \"value\": \" United-States\"}}}, {\"outValue\": 0.1845072209835052, \"simIndex\": 15.0, \"features\": {\"0\": {\"effect\": 0.0, \"value\": 34.0}, \"1\": {\"effect\": 0.0, \"value\": \" Private\"}, \"2\": {\"effect\": 0.10936044894404573, \"value\": 12.0}, \"3\": {\"effect\": 0.0, \"value\": \" Divorced\"}, \"4\": {\"effect\": 0.01146012470075261, \"value\": \" Sales\"}, \"5\": {\"effect\": -0.18299765008835797, \"value\": \" Unmarried\"}, \"6\": {\"effect\": 0.0, \"value\": \" Black\"}, \"7\": {\"effect\": -0.04869225107189411, \"value\": \" Female\"}, \"8\": {\"effect\": -0.030732995724355824, \"value\": 0.0}, \"9\": {\"effect\": -0.00819887288731673, \"value\": 0.0}, \"10\": {\"effect\": 0.08104484070737122, \"value\": 45.0}, \"11\": {\"effect\": 0.0, \"value\": \" United-States\"}}}, {\"outValue\": 0.3113612234592438, \"simIndex\": 13.0, \"features\": {\"0\": {\"effect\": 0.09076867214608117, \"value\": 60.0}, \"1\": {\"effect\": 0.0, \"value\": \" Private\"}, \"2\": {\"effect\": 0.1790851626178468, \"value\": 13.0}, \"3\": {\"effect\": 0.0, \"value\": \" Divorced\"}, \"4\": {\"effect\": 0.023063847334330805, \"value\": \" Prof-specialty\"}, \"5\": {\"effect\": -0.193038266630195, \"value\": \" Not-in-family\"}, \"6\": {\"effect\": 0.0, \"value\": \" White\"}, \"7\": {\"effect\": -0.05810299920614327, \"value\": \" Female\"}, \"8\": {\"effect\": -0.030492684250846183, \"value\": 0.0}, \"9\": {\"effect\": -0.008010316241376953, \"value\": 0.0}, \"10\": {\"effect\": 0.054824231286286065, \"value\": 42.0}, \"11\": {\"effect\": 0.0, \"value\": \" United-States\"}}}, {\"outValue\": -0.16546660661697388, \"simIndex\": 22.0, \"features\": {\"0\": {\"effect\": -0.18577563125175098, \"value\": 21.0}, \"1\": {\"effect\": 0.0, \"value\": \" Private\"}, \"2\": {\"effect\": -0.06587678614758402, \"value\": 9.0}, \"3\": {\"effect\": -0.08282916023088405, \"value\": \" Never-married\"}, \"4\": {\"effect\": -0.09566547050821772, \"value\": \" Handlers-cleaners\"}, \"5\": {\"effect\": -0.009213622735318616, \"value\": \" Own-child\"}, \"6\": {\"effect\": 0.0, \"value\": \" White\"}, \"7\": {\"effect\": 0.019931400971584384, \"value\": \" Male\"}, \"8\": {\"effect\": -0.03008595191806973, \"value\": 0.0}, \"9\": {\"effect\": -0.006172135767585574, \"value\": 0.0}, \"10\": {\"effect\": 0.03695717456759212, \"value\": 40.0}, \"11\": {\"effect\": 0.0, \"value\": \" United-States\"}}}, {\"outValue\": 2.013097047805786, \"simIndex\": 1.0, \"features\": {\"0\": {\"effect\": 0.08185778673177269, \"value\": 57.0}, \"1\": {\"effect\": 0.02538271655540425, \"value\": \" Federal-gov\"}, \"2\": {\"effect\": 0.16476743115819203, \"value\": 14.0}, \"3\": {\"effect\": 0.04923099436106393, \"value\": \" Married-civ-spouse\"}, \"4\": {\"effect\": 0.017061671874859075, \"value\": \" Sales\"}, \"5\": {\"effect\": 0.06642805709239108, \"value\": \" Husband\"}, \"6\": {\"effect\": 0.0, \"value\": \" White\"}, \"7\": {\"effect\": 0.020084979436838957, \"value\": \" Male\"}, \"8\": {\"effect\": 1.3090097467486708, \"value\": 15024.0}, \"9\": {\"effect\": 0.0, \"value\": 0.0}, \"10\": {\"effect\": 0.026010087443333108, \"value\": 40.0}, \"11\": {\"effect\": 0.0, \"value\": \" United-States\"}}}, {\"outValue\": 0.6686052680015564, \"simIndex\": 41.0, \"features\": {\"0\": {\"effect\": 0.03048878864525645, \"value\": 41.0}, \"1\": {\"effect\": 0.0, \"value\": \" Private\"}, \"2\": {\"effect\": 0.2099644507388888, \"value\": 15.0}, \"3\": {\"effect\": 0.028603927321706912, \"value\": \" Married-civ-spouse\"}, \"4\": {\"effect\": 0.017424018831199484, \"value\": \" Prof-specialty\"}, \"5\": {\"effect\": 0.06924575457505783, \"value\": \" Husband\"}, \"6\": {\"effect\": 0.0, \"value\": \" White\"}, \"7\": {\"effect\": 0.011696718993670668, \"value\": \" Male\"}, \"8\": {\"effect\": -0.029720427590507748, \"value\": 0.0}, \"9\": {\"effect\": -0.013367378236772587, \"value\": 0.0}, \"10\": {\"effect\": 0.0910058383197963, \"value\": 60.0}, \"11\": {\"effect\": 0.0, \"value\": \" United-States\"}}}, {\"outValue\": 0.11672013998031613, \"simIndex\": 27.0, \"features\": {\"0\": {\"effect\": 0.06046741598130126, \"value\": 50.0}, \"1\": {\"effect\": 0.0, \"value\": \" Private\"}, \"2\": {\"effect\": -0.00398752336686109, \"value\": 10.0}, \"3\": {\"effect\": 0.0, \"value\": \" Divorced\"}, \"4\": {\"effect\": -0.07902597144325005, \"value\": \" Other-service\"}, \"5\": {\"effect\": -0.19453533842056958, \"value\": \" Not-in-family\"}, \"6\": {\"effect\": 0.0, \"value\": \" White\"}, \"7\": {\"effect\": 0.016304587978899443, \"value\": \" Male\"}, \"8\": {\"effect\": -0.03125190170747452, \"value\": 0.0}, \"9\": {\"effect\": -0.005678714592694839, \"value\": 0.0}, \"10\": {\"effect\": 0.10116400914770524, \"value\": 45.0}, \"11\": {\"effect\": 0.0, \"value\": \" United-States\"}}}, {\"outValue\": 0.039329804480075836, \"simIndex\": 20.0, \"features\": {\"0\": {\"effect\": -0.11654830666210014, \"value\": 25.0}, \"1\": {\"effect\": 0.0, \"value\": \" Private\"}, \"2\": {\"effect\": 0.19699156888349478, \"value\": 13.0}, \"3\": {\"effect\": -0.07468718147655934, \"value\": \" Never-married\"}, \"4\": {\"effect\": 0.04817339270344327, \"value\": \" Exec-managerial\"}, \"5\": {\"effect\": -0.18880144099523669, \"value\": \" Not-in-family\"}, \"6\": {\"effect\": 0.0, \"value\": \" White\"}, \"7\": {\"effect\": -0.07106084118398474, \"value\": \" Female\"}, \"8\": {\"effect\": -0.02967904330665272, \"value\": 0.0}, \"9\": {\"effect\": -0.006239469233415423, \"value\": 0.0}, \"10\": {\"effect\": 0.02791754934782656, \"value\": 40.0}, \"11\": {\"effect\": 0.0, \"value\": \" United-States\"}}}, {\"outValue\": 0.05605647712945938, \"simIndex\": 2.0, \"features\": {\"0\": {\"effect\": 0.09280118959591871, \"value\": 50.0}, \"1\": {\"effect\": 0.0, \"value\": \" Private\"}, \"2\": {\"effect\": -0.4543929226841062, \"value\": 4.0}, \"3\": {\"effect\": 0.03763029313486105, \"value\": \" Married-civ-spouse\"}, \"4\": {\"effect\": 0.0, \"value\": \" Craft-repair\"}, \"5\": {\"effect\": 0.11595184743517678, \"value\": \" Husband\"}, \"6\": {\"effect\": 0.0, \"value\": \" White\"}, \"7\": {\"effect\": 0.01641694014524879, \"value\": \" Male\"}, \"8\": {\"effect\": -0.0326320310384904, \"value\": 0.0}, \"9\": {\"effect\": 0.0, \"value\": 0.0}, \"10\": {\"effect\": 0.02701758413759031, \"value\": 40.0}, \"11\": {\"effect\": 0.0, \"value\": \" Ecuador\"}}}, {\"outValue\": 0.5613261461257935, \"simIndex\": 42.0, \"features\": {\"0\": {\"effect\": 0.0060304407664455995, \"value\": 36.0}, \"1\": {\"effect\": 0.0, \"value\": \" Private\"}, \"2\": {\"effect\": 0.1380268301475116, \"value\": 13.0}, \"3\": {\"effect\": 0.0308538094916794, \"value\": \" Married-civ-spouse\"}, \"4\": {\"effect\": 0.016869565173570134, \"value\": \" Prof-specialty\"}, \"5\": {\"effect\": 0.08457568782810002, \"value\": \" Husband\"}, \"6\": {\"effect\": 0.0, \"value\": \" White\"}, \"7\": {\"effect\": 0.01289380447983171, \"value\": \" Male\"}, \"8\": {\"effect\": -0.030876327328502345, \"value\": 0.0}, \"9\": {\"effect\": -0.012644460008469693, \"value\": 0.0}, \"10\": {\"effect\": 0.06233321917236667, \"value\": 45.0}, \"11\": {\"effect\": 0.0, \"value\": \" United-States\"}}}, {\"outValue\": -0.12481346726417547, \"simIndex\": 25.0, \"features\": {\"0\": {\"effect\": -0.03210797408975696, \"value\": 31.0}, \"1\": {\"effect\": 0.0, \"value\": \" Private\"}, \"2\": {\"effect\": -0.07291641334926596, \"value\": 9.0}, \"3\": {\"effect\": 0.0, \"value\": \" Divorced\"}, \"4\": {\"effect\": 0.016136010112403038, \"value\": \" Prof-specialty\"}, \"5\": {\"effect\": -0.22212361639537787, \"value\": \" Not-in-family\"}, \"6\": {\"effect\": 0.0, \"value\": \" White\"}, \"7\": {\"effect\": -0.07075521644864305, \"value\": \" Female\"}, \"8\": {\"effect\": -0.032222581308280984, \"value\": 0.0}, \"9\": {\"effect\": 0.0, \"value\": 0.0}, \"10\": {\"effect\": 0.03591274781148601, \"value\": 40.0}, \"11\": {\"effect\": 0.0, \"value\": \" United-States\"}}}, {\"outValue\": 0.32719108462333674, \"simIndex\": 17.0, \"features\": {\"0\": {\"effect\": -0.045790914807104934, \"value\": 29.0}, \"1\": {\"effect\": 0.0, \"value\": \" Local-gov\"}, \"2\": {\"effect\": 0.16187113648937432, \"value\": 13.0}, \"3\": {\"effect\": -0.05407194338185039, \"value\": \" Never-married\"}, \"4\": {\"effect\": 0.017407232384926738, \"value\": \" Protective-serv\"}, \"5\": {\"effect\": -0.14448475686526532, \"value\": \" Not-in-family\"}, \"6\": {\"effect\": 0.0, \"value\": \" White\"}, \"7\": {\"effect\": 0.020388731263694657, \"value\": \" Male\"}, \"8\": {\"effect\": -0.030115708023829194, \"value\": 0.0}, \"9\": {\"effect\": -0.005862635765688087, \"value\": 0.0}, \"10\": {\"effect\": 0.15458636692581867, \"value\": 56.0}, \"11\": {\"effect\": 0.0, \"value\": \" United-States\"}}}, {\"outValue\": 0.031631782650947515, \"simIndex\": 23.0, \"features\": {\"0\": {\"effect\": -0.1911935749999514, \"value\": 21.0}, \"1\": {\"effect\": 0.0, \"value\": \" Private\"}, \"2\": {\"effect\": -0.005744546891394961, \"value\": 10.0}, \"3\": {\"effect\": -0.07749629508970324, \"value\": \" Never-married\"}, \"4\": {\"effect\": 0.010928794059183566, \"value\": \" Sales\"}, \"5\": {\"effect\": -0.0201921271988644, \"value\": \" Own-child\"}, \"6\": {\"effect\": 0.0, \"value\": \" White\"}, \"7\": {\"effect\": 0.018564834506084316, \"value\": \" Male\"}, \"8\": {\"effect\": -0.031016490912018913, \"value\": 0.0}, \"9\": {\"effect\": -0.009246055563735756, \"value\": 0.0}, \"10\": {\"effect\": 0.08376366833808802, \"value\": 45.0}, \"11\": {\"effect\": 0.0, \"value\": \" United-States\"}}}, {\"outValue\": 0.12848630547523499, \"simIndex\": 21.0, \"features\": {\"0\": {\"effect\": -0.08058723951378069, \"value\": 27.0}, \"1\": {\"effect\": 0.0, \"value\": \" Private\"}, \"2\": {\"effect\": 0.19790554360356144, \"value\": 13.0}, \"3\": {\"effect\": -0.06835861931213782, \"value\": \" Never-married\"}, \"4\": {\"effect\": 0.0695000265501348, \"value\": \" Tech-support\"}, \"5\": {\"effect\": -0.17596168504807647, \"value\": \" Unmarried\"}, \"6\": {\"effect\": 0.0, \"value\": \" Black\"}, \"7\": {\"effect\": -0.06036326797749432, \"value\": \" Female\"}, \"8\": {\"effect\": -0.030153517340260533, \"value\": 0.0}, \"9\": {\"effect\": -0.008917641351573025, \"value\": 0.0}, \"10\": {\"effect\": 0.032159129461601293, \"value\": 40.0}, \"11\": {\"effect\": 0.0, \"value\": \" United-States\"}}}, {\"outValue\": -0.06079468131065374, \"simIndex\": 4.0, \"features\": {\"0\": {\"effect\": 0.10305696669164768, \"value\": 65.0}, \"1\": {\"effect\": 0.0, \"value\": \" Private\"}, \"2\": {\"effect\": -0.09532023699284782, \"value\": 9.0}, \"3\": {\"effect\": 0.04037180594365579, \"value\": \" Married-civ-spouse\"}, \"4\": {\"effect\": 0.0, \"value\": \" Transport-moving\"}, \"5\": {\"effect\": 0.11087960287871404, \"value\": \" Husband\"}, \"6\": {\"effect\": 0.0, \"value\": \" White\"}, \"7\": {\"effect\": 0.01654225457320372, \"value\": \" Male\"}, \"8\": {\"effect\": -0.033944170246009715, \"value\": 0.0}, \"9\": {\"effect\": -0.01340035892958039, \"value\": 0.0}, \"10\": {\"effect\": -0.44224412163269733, \"value\": 16.0}, \"11\": {\"effect\": 0.0, \"value\": \" United-States\"}}}, {\"outValue\": 0.33654284477233887, \"simIndex\": 16.0, \"features\": {\"0\": {\"effect\": 0.016879534312460975, \"value\": 37.0}, \"1\": {\"effect\": 0.013524914435156752, \"value\": \" Self-emp-inc\"}, \"2\": {\"effect\": 0.15938348936291052, \"value\": 13.0}, \"3\": {\"effect\": 0.0, \"value\": \" Divorced\"}, \"4\": {\"effect\": 0.012661259014737136, \"value\": \" Sales\"}, \"5\": {\"effect\": -0.16580568479283755, \"value\": \" Not-in-family\"}, \"6\": {\"effect\": 0.0, \"value\": \" White\"}, \"7\": {\"effect\": -0.05892458889225941, \"value\": \" Female\"}, \"8\": {\"effect\": -0.03032010846085005, \"value\": 0.0}, \"9\": {\"effect\": -0.0056741273624991845, \"value\": 0.0}, \"10\": {\"effect\": 0.14155458075225938, \"value\": 60.0}, \"11\": {\"effect\": 0.0, \"value\": \" United-States\"}}}, {\"outValue\": 0.7378068566322327, \"simIndex\": 40.0, \"features\": {\"0\": {\"effect\": 0.024710952320452145, \"value\": 39.0}, \"1\": {\"effect\": 0.0, \"value\": \" ?\"}, \"2\": {\"effect\": 0.1850826094356653, \"value\": 14.0}, \"3\": {\"effect\": 0.03435691644369515, \"value\": \" Married-civ-spouse\"}, \"4\": {\"effect\": -0.03232308145334167, \"value\": \" ?\"}, \"5\": {\"effect\": 0.1855324622371407, \"value\": \" Wife\"}, \"6\": {\"effect\": 0.0, \"value\": \" Asian-Pac-Islander\"}, \"7\": {\"effect\": -0.046452724799902895, \"value\": \" Female\"}, \"8\": {\"effect\": 0.10927587468986305, \"value\": 3464.0}, \"9\": {\"effect\": 0.0, \"value\": 0.0}, \"10\": {\"effect\": 0.024360271355400642, \"value\": 40.0}, \"11\": {\"effect\": 0.0, \"value\": \" ?\"}}}, {\"outValue\": -0.016484849154949188, \"simIndex\": 24.0, \"features\": {\"0\": {\"effect\": -0.13747945645471887, \"value\": 24.0}, \"1\": {\"effect\": 0.0, \"value\": \" Private\"}, \"2\": {\"effect\": -0.06506384283666317, \"value\": 9.0}, \"3\": {\"effect\": -0.07927307591584973, \"value\": \" Never-married\"}, \"4\": {\"effect\": 0.0, \"value\": \" Craft-repair\"}, \"5\": {\"effect\": -0.0076120284748959766, \"value\": \" Own-child\"}, \"6\": {\"effect\": 0.0, \"value\": \" White\"}, \"7\": {\"effect\": 0.02031093984183828, \"value\": \" Male\"}, \"8\": {\"effect\": -0.03089808700442173, \"value\": 0.0}, \"9\": {\"effect\": -0.006487999204916273, \"value\": 0.0}, \"10\": {\"effect\": 0.03675512449141799, \"value\": 40.0}, \"11\": {\"effect\": 0.0, \"value\": \" United-States\"}}}, {\"outValue\": 0.22392335534095764, \"simIndex\": 29.0, \"features\": {\"0\": {\"effect\": 0.0185180623077979, \"value\": 38.0}, \"1\": {\"effect\": 0.0, \"value\": \" Private\"}, \"2\": {\"effect\": -0.07420037043446412, \"value\": 9.0}, \"3\": {\"effect\": 0.0, \"value\": \" Divorced\"}, \"4\": {\"effect\": 0.011510697137116221, \"value\": \" Sales\"}, \"5\": {\"effect\": -0.14793354762924965, \"value\": \" Not-in-family\"}, \"6\": {\"effect\": 0.0, \"value\": \" White\"}, \"7\": {\"effect\": 0.015596142292589987, \"value\": \" Male\"}, \"8\": {\"effect\": -0.030973342012431307, \"value\": 0.0}, \"9\": {\"effect\": 0.0, \"value\": 0.0}, \"10\": {\"effect\": 0.17814213727633832, \"value\": 80.0}, \"11\": {\"effect\": 0.0, \"value\": \" United-States\"}}}, {\"outValue\": 1.0478453636169434, \"simIndex\": 34.0, \"features\": {\"0\": {\"effect\": 0.055026057654146976, \"value\": 48.0}, \"1\": {\"effect\": 0.0, \"value\": \" Private\"}, \"2\": {\"effect\": 0.11821087653102985, \"value\": 13.0}, \"3\": {\"effect\": 0.04517138587368619, \"value\": \" Married-civ-spouse\"}, \"4\": {\"effect\": 0.0, \"value\": \" Adm-clerical\"}, \"5\": {\"effect\": 0.07120653297990753, \"value\": \" Husband\"}, \"6\": {\"effect\": 0.0, \"value\": \" White\"}, \"7\": {\"effect\": 0.008710364704799939, \"value\": \" Male\"}, \"8\": {\"effect\": 0.4732647711497856, \"value\": 7688.0}, \"9\": {\"effect\": 0.0, \"value\": 0.0}, \"10\": {\"effect\": 0.02299179832032705, \"value\": 40.0}, \"11\": {\"effect\": 0.0, \"value\": \" United-States\"}}}, {\"outValue\": -0.7817946076393127, \"simIndex\": 10.0, \"features\": {\"0\": {\"effect\": -0.16828504983291553, \"value\": 21.0}, \"1\": {\"effect\": 0.0, \"value\": \" Private\"}, \"2\": {\"effect\": -0.013918583912882643, \"value\": 10.0}, \"3\": {\"effect\": -0.09193357317254403, \"value\": \" Never-married\"}, \"4\": {\"effect\": -0.07520492624462327, \"value\": \" Other-service\"}, \"5\": {\"effect\": -0.24177633341042185, \"value\": \" Not-in-family\"}, \"6\": {\"effect\": 0.0, \"value\": \" Asian-Pac-Islander\"}, \"7\": {\"effect\": -0.0805413555654873, \"value\": \" Female\"}, \"8\": {\"effect\": -0.031071422040163943, \"value\": 0.0}, \"9\": {\"effect\": 0.0, \"value\": 0.0}, \"10\": {\"effect\": -0.33232693986353445, \"value\": 25.0}, \"11\": {\"effect\": 0.0, \"value\": \" United-States\"}}}, {\"outValue\": 0.36071500182151794, \"simIndex\": 45.0, \"features\": {\"0\": {\"effect\": -0.02371601679300562, \"value\": 31.0}, \"1\": {\"effect\": 0.0, \"value\": \" Private\"}, \"2\": {\"effect\": -0.05130931966387449, \"value\": 9.0}, \"3\": {\"effect\": 0.036374278136986404, \"value\": \" Married-civ-spouse\"}, \"4\": {\"effect\": -0.005405643311208349, \"value\": \" Transport-moving\"}, \"5\": {\"effect\": 0.0952678376889559, \"value\": \" Husband\"}, \"6\": {\"effect\": 0.0, \"value\": \" White\"}, \"7\": {\"effect\": 0.014601312325037885, \"value\": \" Male\"}, \"8\": {\"effect\": -0.03179900634915765, \"value\": 0.0}, \"9\": {\"effect\": -0.008349892517382777, \"value\": 0.0}, \"10\": {\"effect\": 0.08178787590190634, \"value\": 45.0}, \"11\": {\"effect\": 0.0, \"value\": \" United-States\"}}}, {\"outValue\": 0.6383378505706787, \"simIndex\": 39.0, \"features\": {\"0\": {\"effect\": 0.07587887056443657, \"value\": 55.0}, \"1\": {\"effect\": 0.0, \"value\": \" Private\"}, \"2\": {\"effect\": -0.06076943057187936, \"value\": 9.0}, \"3\": {\"effect\": 0.03850670609408646, \"value\": \" Married-civ-spouse\"}, \"4\": {\"effect\": 0.014496805321796757, \"value\": \" Sales\"}, \"5\": {\"effect\": 0.0938555229188427, \"value\": \" Husband\"}, \"6\": {\"effect\": 0.0, \"value\": \" White\"}, \"7\": {\"effect\": 0.015386028416385145, \"value\": \" Male\"}, \"8\": {\"effect\": 0.1821783337159923, \"value\": 4386.0}, \"9\": {\"effect\": -0.011911157491982294, \"value\": 0.0}, \"10\": {\"effect\": 0.037452595199740146, \"value\": 40.0}, \"11\": {\"effect\": 0.0, \"value\": \" United-States\"}}}, {\"outValue\": 0.2949877381324768, \"simIndex\": 44.0, \"features\": {\"0\": {\"effect\": -0.11562898033720032, \"value\": 24.0}, \"1\": {\"effect\": 0.0, \"value\": \" Private\"}, \"2\": {\"effect\": 0.0, \"value\": 10.0}, \"3\": {\"effect\": 0.04699581021839422, \"value\": \" Married-civ-spouse\"}, \"4\": {\"effect\": -0.021547470060133037, \"value\": \" Adm-clerical\"}, \"5\": {\"effect\": 0.20650469440888214, \"value\": \" Wife\"}, \"6\": {\"effect\": 0.0, \"value\": \" Asian-Pac-Islander\"}, \"7\": {\"effect\": -0.06114887911382549, \"value\": \" Female\"}, \"8\": {\"effect\": -0.030978136707148045, \"value\": 0.0}, \"9\": {\"effect\": -0.0075436429913980285, \"value\": 0.0}, \"10\": {\"effect\": 0.03456328255140343, \"value\": 40.0}, \"11\": {\"effect\": -0.009492516239758372, \"value\": \" Laos\"}}}, {\"outValue\": -0.042291902005672455, \"simIndex\": 26.0, \"features\": {\"0\": {\"effect\": 0.06741606026236259, \"value\": 43.0}, \"1\": {\"effect\": 0.0, \"value\": \" Private\"}, \"2\": {\"effect\": -0.06117922493422828, \"value\": 9.0}, \"3\": {\"effect\": 0.0, \"value\": \" Divorced\"}, \"4\": {\"effect\": -0.02412721697169301, \"value\": \" Adm-clerical\"}, \"5\": {\"effect\": -0.22340147388452763, \"value\": \" Not-in-family\"}, \"6\": {\"effect\": 0.0, \"value\": \" White\"}, \"7\": {\"effect\": -0.06272259333833884, \"value\": \" Female\"}, \"8\": {\"effect\": -0.03195282219203063, \"value\": 0.0}, \"9\": {\"effect\": 0.0, \"value\": 0.0}, \"10\": {\"effect\": 0.04041179264952305, \"value\": 40.0}, \"11\": {\"effect\": 0.0, \"value\": \" United-States\"}}}, {\"outValue\": 0.218195840716362, \"simIndex\": 18.0, \"features\": {\"0\": {\"effect\": -0.08779366460886924, \"value\": 26.0}, \"1\": {\"effect\": 0.0, \"value\": \" Private\"}, \"2\": {\"effect\": 0.12458899293684671, \"value\": 12.0}, \"3\": {\"effect\": -0.06411171106672683, \"value\": \" Never-married\"}, \"4\": {\"effect\": 0.07050987908853526, \"value\": \" Tech-support\"}, \"5\": {\"effect\": -0.1616837298048588, \"value\": \" Not-in-family\"}, \"6\": {\"effect\": 0.0, \"value\": \" White\"}, \"7\": {\"effect\": 0.020710139391201227, \"value\": \" Male\"}, \"8\": {\"effect\": -0.031125240482516955, \"value\": 0.0}, \"9\": {\"effect\": -0.0054259483062579356, \"value\": 0.0}, \"10\": {\"effect\": 0.09926354716574826, \"value\": 45.0}, \"11\": {\"effect\": 0.0, \"value\": \" United-States\"}}}, {\"outValue\": -0.009128361940383856, \"simIndex\": 12.0, \"features\": {\"0\": {\"effect\": 0.06932682810820666, \"value\": 46.0}, \"1\": {\"effect\": 0.0, \"value\": \" Private\"}, \"2\": {\"effect\": 0.13140024676118778, \"value\": 12.0}, \"3\": {\"effect\": -0.061887136932937126, \"value\": \" Never-married\"}, \"4\": {\"effect\": 0.021298271175695466, \"value\": \" Prof-specialty\"}, \"5\": {\"effect\": -0.2200996456113402, \"value\": \" Not-in-family\"}, \"6\": {\"effect\": 0.0, \"value\": \" White\"}, \"7\": {\"effect\": -0.06437280179476679, \"value\": \" Female\"}, \"8\": {\"effect\": -0.031477068371204175, \"value\": 0.0}, \"9\": {\"effect\": -0.006534001110571647, \"value\": 0.0}, \"10\": {\"effect\": -0.10004663056791419, \"value\": 33.0}, \"11\": {\"effect\": 0.0, \"value\": \" United-States\"}}}, {\"outValue\": 0.47201532125473017, \"simIndex\": 43.0, \"features\": {\"0\": {\"effect\": 0.0063916317065936396, \"value\": 35.0}, \"1\": {\"effect\": 0.0, \"value\": \" Private\"}, \"2\": {\"effect\": 0.10076819559522822, \"value\": 12.0}, \"3\": {\"effect\": 0.036215118274039726, \"value\": \" Married-civ-spouse\"}, \"4\": {\"effect\": -0.020614320168657246, \"value\": \" Adm-clerical\"}, \"5\": {\"effect\": 0.09183289324304561, \"value\": \" Husband\"}, \"6\": {\"effect\": 0.0, \"value\": \" White\"}, \"7\": {\"effect\": 0.013886927521265843, \"value\": \" Male\"}, \"8\": {\"effect\": -0.030505364843487315, \"value\": 0.0}, \"9\": {\"effect\": -0.011920997685042067, \"value\": 0.0}, \"10\": {\"effect\": 0.0326976612084835, \"value\": 40.0}, \"11\": {\"effect\": 0.0, \"value\": \" United-States\"}}}, {\"outValue\": 0.44411006569862366, \"simIndex\": 48.0, \"features\": {\"0\": {\"effect\": 0.046074040675290556, \"value\": 41.0}, \"1\": {\"effect\": 0.013184038191033275, \"value\": \" Self-emp-inc\"}, \"2\": {\"effect\": -0.007829687614050979, \"value\": 10.0}, \"3\": {\"effect\": 0.028886026282412547, \"value\": \" Married-civ-spouse\"}, \"4\": {\"effect\": -0.06941654737876757, \"value\": \" Farming-fishing\"}, \"5\": {\"effect\": 0.09594277084183037, \"value\": \" Husband\"}, \"6\": {\"effect\": 0.0, \"value\": \" White\"}, \"7\": {\"effect\": 0.01202863491282459, \"value\": \" Male\"}, \"8\": {\"effect\": -0.029733535646451235, \"value\": 0.0}, \"9\": {\"effect\": -0.01057895470189258, \"value\": 0.0}, \"10\": {\"effect\": 0.11228970373313438, \"value\": 54.0}, \"11\": {\"effect\": 0.0, \"value\": \" United-States\"}}}, {\"outValue\": 0.1259574294090271, \"simIndex\": 19.0, \"features\": {\"0\": {\"effect\": -0.08936039557779685, \"value\": 26.0}, \"1\": {\"effect\": 0.0, \"value\": \" Private\"}, \"2\": {\"effect\": 0.18951458315663527, \"value\": 13.0}, \"3\": {\"effect\": -0.07448365649723573, \"value\": \" Never-married\"}, \"4\": {\"effect\": 0.012325451636642476, \"value\": \" Sales\"}, \"5\": {\"effect\": -0.17690045991003756, \"value\": \" Not-in-family\"}, \"6\": {\"effect\": 0.0, \"value\": \" White\"}, \"7\": {\"effect\": 0.019832215562494697, \"value\": \" Male\"}, \"8\": {\"effect\": -0.03099264748862579, \"value\": 0.0}, \"9\": {\"effect\": -0.006894094159989803, \"value\": 0.0}, \"10\": {\"effect\": 0.029652856283680085, \"value\": 40.0}, \"11\": {\"effect\": 0.0, \"value\": \" United-States\"}}}, {\"outValue\": 1.053497314453125, \"simIndex\": 35.0, \"features\": {\"0\": {\"effect\": 0.0, \"value\": 34.0}, \"1\": {\"effect\": 0.0, \"value\": \" Private\"}, \"2\": {\"effect\": 0.17078397514149893, \"value\": 14.0}, \"3\": {\"effect\": 0.04262985769374106, \"value\": \" Married-civ-spouse\"}, \"4\": {\"effect\": 0.05560872168339112, \"value\": \" Exec-managerial\"}, \"5\": {\"effect\": 0.06501240731310123, \"value\": \" Husband\"}, \"6\": {\"effect\": 0.0, \"value\": \" Asian-Pac-Islander\"}, \"7\": {\"effect\": 0.011144857451837353, \"value\": \" Male\"}, \"8\": {\"effect\": 0.4550539187662951, \"value\": 7298.0}, \"9\": {\"effect\": 0.0, \"value\": 0.0}, \"10\": {\"effect\": 0.0, \"value\": 35.0}, \"11\": {\"effect\": 0.0, \"value\": \" Taiwan\"}}}, {\"outValue\": -0.49797177314758295, \"simIndex\": 11.0, \"features\": {\"0\": {\"effect\": -0.22817353685739972, \"value\": 19.0}, \"1\": {\"effect\": 0.0, \"value\": \" ?\"}, \"2\": {\"effect\": -0.017955216995601736, \"value\": 10.0}, \"3\": {\"effect\": -0.09739143543708018, \"value\": \" Never-married\"}, \"4\": {\"effect\": -0.029448973023096292, \"value\": \" ?\"}, \"5\": {\"effect\": 0.0, \"value\": \" Own-child\"}, \"6\": {\"effect\": 0.0, \"value\": \" Black\"}, \"7\": {\"effect\": -0.07269943859765798, \"value\": \" Female\"}, \"8\": {\"effect\": -0.031169556767193712, \"value\": 0.0}, \"9\": {\"effect\": -0.007851369139243336, \"value\": 0.0}, \"10\": {\"effect\": -0.2665458227335703, \"value\": 25.0}, \"11\": {\"effect\": 0.0, \"value\": \" United-States\"}}}, {\"outValue\": 0.24969728291034698, \"simIndex\": 14.0, \"features\": {\"0\": {\"effect\": 0.02552377928556544, \"value\": 36.0}, \"1\": {\"effect\": 0.0, \"value\": \" Self-emp-not-inc\"}, \"2\": {\"effect\": 0.19124242212376477, \"value\": 13.0}, \"3\": {\"effect\": 0.0, \"value\": \" Divorced\"}, \"4\": {\"effect\": 0.019845579782172343, \"value\": \" Prof-specialty\"}, \"5\": {\"effect\": -0.1823672500487745, \"value\": \" Not-in-family\"}, \"6\": {\"effect\": 0.0, \"value\": \" Black\"}, \"7\": {\"effect\": -0.059295337979931056, \"value\": \" Female\"}, \"8\": {\"effect\": -0.031219114697604335, \"value\": 0.0}, \"9\": {\"effect\": -0.005008122669849305, \"value\": 0.0}, \"10\": {\"effect\": 0.03771175071174331, \"value\": 40.0}, \"11\": {\"effect\": 0.0, \"value\": \" United-States\"}}}, {\"outValue\": -0.5873498320579529, \"simIndex\": 8.0, \"features\": {\"0\": {\"effect\": -0.16987558633383654, \"value\": 22.0}, \"1\": {\"effect\": 0.0, \"value\": \" Private\"}, \"2\": {\"effect\": -0.02078865661520124, \"value\": 10.0}, \"3\": {\"effect\": -0.09921239857748293, \"value\": \" Never-married\"}, \"4\": {\"effect\": 0.0, \"value\": \" Sales\"}, \"5\": {\"effect\": 0.0, \"value\": \" Own-child\"}, \"6\": {\"effect\": 0.0, \"value\": \" White\"}, \"7\": {\"effect\": 0.0, \"value\": \" Male\"}, \"8\": {\"effect\": -0.02533860807695365, \"value\": 0.0}, \"9\": {\"effect\": 0.0, \"value\": 0.0}, \"10\": {\"effect\": -0.5253981588577388, \"value\": 15.0}, \"11\": {\"effect\": 0.0, \"value\": \" United-States\"}}}, {\"outValue\": -0.1297779083251953, \"simIndex\": 32.0, \"features\": {\"0\": {\"effect\": -0.13279286445091062, \"value\": 24.0}, \"1\": {\"effect\": 0.0, \"value\": \" Private\"}, \"2\": {\"effect\": 0.0, \"value\": 10.0}, \"3\": {\"effect\": -0.07597810357260465, \"value\": \" Never-married\"}, \"4\": {\"effect\": 0.0, \"value\": \" Machine-op-inspct\"}, \"5\": {\"effect\": -0.1916178021788686, \"value\": \" Not-in-family\"}, \"6\": {\"effect\": 0.0, \"value\": \" White\"}, \"7\": {\"effect\": 0.019357303043755714, \"value\": \" Male\"}, \"8\": {\"effect\": -0.03367438308153514, \"value\": 0.0}, \"9\": {\"effect\": 0.0, \"value\": 0.0}, \"10\": {\"effect\": 0.03166436551170765, \"value\": 40.0}, \"11\": {\"effect\": 0.0, \"value\": \" United-States\"}}}, {\"outValue\": 0.42541956901550293, \"simIndex\": 46.0, \"features\": {\"0\": {\"effect\": 0.05601943692100374, \"value\": 77.0}, \"1\": {\"effect\": 0.0, \"value\": \" Self-emp-not-inc\"}, \"2\": {\"effect\": -0.01530258072538003, \"value\": 10.0}, \"3\": {\"effect\": 0.031521216460887416, \"value\": \" Married-civ-spouse\"}, \"4\": {\"effect\": 0.014152732579285718, \"value\": \" Sales\"}, \"5\": {\"effect\": 0.09178149315053025, \"value\": \" Husband\"}, \"6\": {\"effect\": 0.0, \"value\": \" White\"}, \"7\": {\"effect\": 0.014840047929581976, \"value\": \" Male\"}, \"8\": {\"effect\": -0.031405961535479206, \"value\": 0.0}, \"9\": {\"effect\": -0.012120852732186868, \"value\": 0.0}, \"10\": {\"effect\": 0.022670460563999628, \"value\": 40.0}, \"11\": {\"effect\": 0.0, \"value\": \" United-States\"}}}, {\"outValue\": -0.8443287014961245, \"simIndex\": 3.0, \"features\": {\"0\": {\"effect\": -0.19817944286158984, \"value\": 22.0}, \"1\": {\"effect\": 0.0, \"value\": \" Private\"}, \"2\": {\"effect\": -0.6716590047465663, \"value\": 3.0}, \"3\": {\"effect\": 0.0, \"value\": \" Married-civ-spouse\"}, \"4\": {\"effect\": 0.0, \"value\": \" Machine-op-inspct\"}, \"5\": {\"effect\": -0.13411370468845307, \"value\": \" Other-relative\"}, \"6\": {\"effect\": 0.0, \"value\": \" White\"}, \"7\": {\"effect\": -0.06725625888996334, \"value\": \" Female\"}, \"8\": {\"effect\": -0.02638386671281223, \"value\": 0.0}, \"9\": {\"effect\": 0.0, \"value\": 0.0}, \"10\": {\"effect\": 0.0, \"value\": 40.0}, \"11\": {\"effect\": 0.0, \"value\": \" Mexico\"}}}, {\"outValue\": -0.08122563362121582, \"simIndex\": 33.0, \"features\": {\"0\": {\"effect\": -0.06523814148789014, \"value\": 29.0}, \"1\": {\"effect\": 0.0, \"value\": \" Private\"}, \"2\": {\"effect\": 0.0, \"value\": 10.0}, \"3\": {\"effect\": -0.06832879533030897, \"value\": \" Never-married\"}, \"4\": {\"effect\": 0.06410723701874035, \"value\": \" Tech-support\"}, \"5\": {\"effect\": -0.19805443244220955, \"value\": \" Not-in-family\"}, \"6\": {\"effect\": 0.0, \"value\": \" White\"}, \"7\": {\"effect\": -0.07062331193657587, \"value\": \" Female\"}, \"8\": {\"effect\": -0.03145268466201809, \"value\": 0.0}, \"9\": {\"effect\": 0.0, \"value\": 0.0}, \"10\": {\"effect\": 0.0351009188157862, \"value\": 40.0}, \"11\": {\"effect\": 0.0, \"value\": \" United-States\"}}}, {\"outValue\": -0.4682870507240295, \"simIndex\": 6.0, \"features\": {\"0\": {\"effect\": 0.12341395580603609, \"value\": 62.0}, \"1\": {\"effect\": 0.0, \"value\": \" Private\"}, \"2\": {\"effect\": -0.0865346853654157, \"value\": 9.0}, \"3\": {\"effect\": 0.0, \"value\": \" Widowed\"}, \"4\": {\"effect\": -0.08862925577708572, \"value\": \" Other-service\"}, \"5\": {\"effect\": -0.2448608480818114, \"value\": \" Not-in-family\"}, \"6\": {\"effect\": 0.0, \"value\": \" White\"}, \"7\": {\"effect\": -0.06924344865050999, \"value\": \" Female\"}, \"8\": {\"effect\": -0.03208419484954894, \"value\": 0.0}, \"9\": {\"effect\": -0.008019089013904857, \"value\": 0.0}, \"10\": {\"effect\": -0.3155930611950492, \"value\": 24.0}, \"11\": {\"effect\": 0.0, \"value\": \" United-States\"}}}, {\"outValue\": 0.4262855350971222, \"simIndex\": 47.0, \"features\": {\"0\": {\"effect\": 0.038683206112158905, \"value\": 39.0}, \"1\": {\"effect\": 0.0, \"value\": \" Self-emp-not-inc\"}, \"2\": {\"effect\": -0.053535338087271775, \"value\": 9.0}, \"3\": {\"effect\": 0.03741899307432878, \"value\": \" Married-civ-spouse\"}, \"4\": {\"effect\": 0.039445742893856425, \"value\": \" Exec-managerial\"}, \"5\": {\"effect\": 0.0995354409839651, \"value\": \" Husband\"}, \"6\": {\"effect\": 0.0, \"value\": \" White\"}, \"7\": {\"effect\": 0.014156181613702634, \"value\": \" Male\"}, \"8\": {\"effect\": -0.03220764219356667, \"value\": 0.0}, \"9\": {\"effect\": -0.009144522285851657, \"value\": 0.0}, \"10\": {\"effect\": 0.038669896582540136, \"value\": 40.0}, \"11\": {\"effect\": 0.0, \"value\": \" United-States\"}}}, {\"outValue\": 0.8026689887046814, \"simIndex\": 36.0, \"features\": {\"0\": {\"effect\": 0.06008724337257093, \"value\": 43.0}, \"1\": {\"effect\": 0.0, \"value\": \" Private\"}, \"2\": {\"effect\": 0.011400903333655066, \"value\": 10.0}, \"3\": {\"effect\": 0.04522253308256663, \"value\": \" Married-civ-spouse\"}, \"4\": {\"effect\": 0.0, \"value\": \" Craft-repair\"}, \"5\": {\"effect\": 0.12111914970895121, \"value\": \" Husband\"}, \"6\": {\"effect\": 0.0, \"value\": \" White\"}, \"7\": {\"effect\": 0.022668239668232615, \"value\": \" Male\"}, \"8\": {\"effect\": -0.02982989256507476, \"value\": 0.0}, \"9\": {\"effect\": 0.2100989971542119, \"value\": 1485.0}, \"10\": {\"effect\": 0.10863823854630755, \"value\": 50.0}, \"11\": {\"effect\": 0.0, \"value\": \" United-States\"}}}, {\"outValue\": 0.12212059646844861, \"simIndex\": 30.0, \"features\": {\"0\": {\"effect\": 0.02006974973372322, \"value\": 35.0}, \"1\": {\"effect\": 0.0, \"value\": \" Private\"}, \"2\": {\"effect\": -0.05755984995368554, \"value\": 9.0}, \"3\": {\"effect\": 0.0, \"value\": \" Divorced\"}, \"4\": {\"effect\": -0.00665362338068054, \"value\": \" Transport-moving\"}, \"5\": {\"effect\": -0.18807289404580657, \"value\": \" Not-in-family\"}, \"6\": {\"effect\": 0.0, \"value\": \" White\"}, \"7\": {\"effect\": 0.02037813710789589, \"value\": \" Male\"}, \"8\": {\"effect\": -0.03180203903424142, \"value\": 0.0}, \"9\": {\"effect\": 0.0, \"value\": 0.0}, \"10\": {\"effect\": 0.11249753963798328, \"value\": 45.0}, \"11\": {\"effect\": 0.0, \"value\": \" United-States\"}}}, {\"outValue\": -0.4148660302162169, \"simIndex\": 31.0, \"features\": {\"0\": {\"effect\": -0.07316172549371391, \"value\": 29.0}, \"1\": {\"effect\": 0.0, \"value\": \" Private\"}, \"2\": {\"effect\": -0.25836618998369515, \"value\": 7.0}, \"3\": {\"effect\": -0.06926756699765757, \"value\": \" Never-married\"}, \"4\": {\"effect\": 0.04550586325902434, \"value\": \" Exec-managerial\"}, \"5\": {\"effect\": -0.2323122012417494, \"value\": \" Not-in-family\"}, \"6\": {\"effect\": 0.0, \"value\": \" White\"}, \"7\": {\"effect\": -0.07779949819237325, \"value\": \" Female\"}, \"8\": {\"effect\": -0.03137181641164466, \"value\": 0.0}, \"9\": {\"effect\": 0.0, \"value\": 0.0}, \"10\": {\"effect\": 0.028643528442332422, \"value\": 40.0}, \"11\": {\"effect\": 0.0, \"value\": \" United-States\"}}}, {\"outValue\": 0.2820298969745637, \"simIndex\": 5.0, \"features\": {\"0\": {\"effect\": 0.11894585103721392, \"value\": 76.0}, \"1\": {\"effect\": 0.0, \"value\": \" Self-emp-not-inc\"}, \"2\": {\"effect\": 0.27958855554601136, \"value\": 14.0}, \"3\": {\"effect\": 0.04103452443935468, \"value\": \" Married-civ-spouse\"}, \"4\": {\"effect\": 0.0, \"value\": \" Craft-repair\"}, \"5\": {\"effect\": 0.10270801311819544, \"value\": \" Husband\"}, \"6\": {\"effect\": 0.0, \"value\": \" White\"}, \"7\": {\"effect\": 0.015929103450669196, \"value\": \" Male\"}, \"8\": {\"effect\": -0.03244352227867431, \"value\": 0.0}, \"9\": {\"effect\": 0.0, \"value\": 0.0}, \"10\": {\"effect\": -0.49699620474146694, \"value\": 10.0}, \"11\": {\"effect\": 0.0, \"value\": \" United-States\"}}}, {\"outValue\": 0.33498191833496094, \"simIndex\": 49.0, \"features\": {\"0\": {\"effect\": 0.05491693213039257, \"value\": 63.0}, \"1\": {\"effect\": 0.0, \"value\": \" Self-emp-not-inc\"}, \"2\": {\"effect\": -0.0704650909526198, \"value\": 9.0}, \"3\": {\"effect\": 0.030613471588701695, \"value\": \" Married-civ-spouse\"}, \"4\": {\"effect\": -0.08202367468400903, \"value\": \" Farming-fishing\"}, \"5\": {\"effect\": 0.09757377239972868, \"value\": \" Husband\"}, \"6\": {\"effect\": 0.0, \"value\": \" White\"}, \"7\": {\"effect\": 0.013619244012677894, \"value\": \" Male\"}, \"8\": {\"effect\": -0.03054377559970828, \"value\": 0.0}, \"9\": {\"effect\": -0.011273787509324083, \"value\": 0.0}, \"10\": {\"effect\": 0.07930125054586099, \"value\": 45.0}, \"11\": {\"effect\": 0.0, \"value\": \" United-States\"}}}, {\"outValue\": -0.6463638544082642, \"simIndex\": 9.0, \"features\": {\"0\": {\"effect\": -0.16285549941979618, \"value\": 23.0}, \"1\": {\"effect\": 0.0, \"value\": \" ?\"}, \"2\": {\"effect\": 0.05466433655941014, \"value\": 11.0}, \"3\": {\"effect\": -0.1031178436309162, \"value\": \" Never-married\"}, \"4\": {\"effect\": -0.03407832533830693, \"value\": \" ?\"}, \"5\": {\"effect\": 0.0, \"value\": \" Own-child\"}, \"6\": {\"effect\": 0.0, \"value\": \" Black\"}, \"7\": {\"effect\": -0.07701070663004422, \"value\": \" Female\"}, \"8\": {\"effect\": -0.031222613366183233, \"value\": 0.0}, \"9\": {\"effect\": -0.009675218508042066, \"value\": 0.0}, \"10\": {\"effect\": -0.5363315604776456, \"value\": 15.0}, \"11\": {\"effect\": 0.0, \"value\": \" United-States\"}}}, {\"outValue\": 0.8442540168762207, \"simIndex\": 37.0, \"features\": {\"0\": {\"effect\": 0.05813310206400796, \"value\": 43.0}, \"1\": {\"effect\": 0.0, \"value\": \" Private\"}, \"2\": {\"effect\": 0.0, \"value\": 10.0}, \"3\": {\"effect\": 0.045975131270659025, \"value\": \" Married-civ-spouse\"}, \"4\": {\"effect\": 0.020328126170807426, \"value\": \" Prof-specialty\"}, \"5\": {\"effect\": 0.2274379166618058, \"value\": \" Wife\"}, \"6\": {\"effect\": 0.0, \"value\": \" White\"}, \"7\": {\"effect\": -0.07591168986878052, \"value\": \" Female\"}, \"8\": {\"effect\": -0.02912762098844393, \"value\": 0.0}, \"9\": {\"effect\": 0.23702029196031493, \"value\": 1887.0}, \"10\": {\"effect\": 0.10713518320258975, \"value\": 50.0}, \"11\": {\"effect\": 0.0, \"value\": \" United-States\"}}}, {\"outValue\": 0.28300750255584717, \"simIndex\": 50.0, \"features\": {\"0\": {\"effect\": 0.061036866827170744, \"value\": 58.0}, \"1\": {\"effect\": 0.0, \"value\": \" Self-emp-not-inc\"}, \"2\": {\"effect\": -0.06617813079303947, \"value\": 9.0}, \"3\": {\"effect\": 0.034473242573648144, \"value\": \" Married-civ-spouse\"}, \"4\": {\"effect\": -0.11230938258286144, \"value\": \" Handlers-cleaners\"}, \"5\": {\"effect\": 0.10511460848468569, \"value\": \" Husband\"}, \"6\": {\"effect\": 0.0, \"value\": \" White\"}, \"7\": {\"effect\": 0.014334580617843425, \"value\": \" Male\"}, \"8\": {\"effect\": -0.03020576346533541, \"value\": 0.0}, \"9\": {\"effect\": -0.010471637565535033, \"value\": 0.0}, \"10\": {\"effect\": 0.0339495420560102, \"value\": 40.0}, \"11\": {\"effect\": 0.0, \"value\": \" United-States\"}}}, {\"outValue\": 0.3148900270462036, \"simIndex\": 28.0, \"features\": {\"0\": {\"effect\": 0.09490877887294351, \"value\": 66.0}, \"1\": {\"effect\": 0.0, \"value\": \" Private\"}, \"2\": {\"effect\": -0.066352490450556, \"value\": 9.0}, \"3\": {\"effect\": -0.036197925907625675, \"value\": \" Never-married\"}, \"4\": {\"effect\": -0.008766129586427335, \"value\": \" Transport-moving\"}, \"5\": {\"effect\": -0.16420219849841874, \"value\": \" Not-in-family\"}, \"6\": {\"effect\": 0.0, \"value\": \" White\"}, \"7\": {\"effect\": 0.017967220306049254, \"value\": \" Male\"}, \"8\": {\"effect\": 0.04612789077042857, \"value\": 2050.0}, \"9\": {\"effect\": 0.0, \"value\": 0.0}, \"10\": {\"effect\": 0.17814130513654974, \"value\": 55.0}, \"11\": {\"effect\": 0.0, \"value\": \" United-States\"}}}], \"plot_cmap\": \"RdBu\"}),\n",
       "    document.getElementById('iE99P2B0ZLIVBHS0UMMSH')\n",
       "  );\n",
       "</script>"
      ],
      "text/plain": [
       "<IPython.core.display.HTML object>"
      ]
     },
     "execution_count": 7,
     "metadata": {},
     "output_type": "execute_result"
    }
   ],
   "source": [
    "shap.force_plot(explainer.expected_value, shap_values50, X_display.iloc[280:330,:])"
   ]
  }
 ],
 "metadata": {
  "kernelspec": {
   "display_name": "Python 3",
   "language": "python",
   "name": "python3"
  },
  "language_info": {
   "codemirror_mode": {
    "name": "ipython",
    "version": 3
   },
   "file_extension": ".py",
   "mimetype": "text/x-python",
   "name": "python",
   "nbconvert_exporter": "python",
   "pygments_lexer": "ipython3",
   "version": "3.6.3"
  }
 },
 "nbformat": 4,
 "nbformat_minor": 1
}
