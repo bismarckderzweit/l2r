{
 "cells": [
  {
   "cell_type": "code",
   "execution_count": 46,
   "metadata": {},
   "outputs": [],
   "source": [
    "A=['d1>d10', 'd1>d4', 'd2>d9', 'd2>d8', 'd2>d10', 'd2>d15', 'd2>d4', 'd2>d11', 'd2>d14', 'd2>d12', 'd3>d12', 'd3>d9', 'd3>d11', 'd4>d13', 'd4>d5', 'd4>d7', 'd4>d12', 'd4>d10', 'd4>d15', 'd4>d16', 'd5>d14', 'd5>d9', 'd6>d11', 'd6>d10', 'd6>d9', 'd6>d15', 'd7>d12', 'd7>d13', 'd8>d11', 'd8>d15', 'd8>d14', 'd8>d10', 'd8>d9', 'd9>d10', 'd13>d15', 'd13>d16', 'd14>d15', 'd14>d16']  "
   ]
  },
  {
   "cell_type": "code",
   "execution_count": 47,
   "metadata": {},
   "outputs": [
    {
     "data": {
      "text/plain": [
       "38"
      ]
     },
     "execution_count": 47,
     "metadata": {},
     "output_type": "execute_result"
    }
   ],
   "source": [
    "len(A)"
   ]
  },
  {
   "cell_type": "code",
   "execution_count": null,
   "metadata": {},
   "outputs": [],
   "source": []
  }
 ],
 "metadata": {
  "kernelspec": {
   "display_name": "Python 3",
   "language": "python",
   "name": "python3"
  },
  "language_info": {
   "codemirror_mode": {
    "name": "ipython",
    "version": 3
   },
   "file_extension": ".py",
   "mimetype": "text/x-python",
   "name": "python",
   "nbconvert_exporter": "python",
   "pygments_lexer": "ipython3",
   "version": "3.6.8"
  }
 },
 "nbformat": 4,
 "nbformat_minor": 2
}
