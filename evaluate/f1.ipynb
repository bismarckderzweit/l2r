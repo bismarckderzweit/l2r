{
 "cells": [
  {
   "cell_type": "code",
   "execution_count": 12,
   "metadata": {},
   "outputs": [
    {
     "name": "stdout",
     "output_type": "stream",
     "text": [
      "the average F1 is of LambdaMART is  5.487749426807674\n",
      "the average F1 is of Ranknet is  -0.05600532849348987\n",
      "the average F1 is of Linearregression is  2.919124364217541\n",
      "the average F1 is of Listnet is  0.014847493285660044\n"
     ]
    }
   ],
   "source": [
    "os.chdir(os.path.expanduser('..'))\n",
    "model_path = 'model/'\n",
    "model_set  = ['LambdaMART_model.txt','Ranknet_model.txt','Linearregression_model.txt','Listnet_model.txt']\n",
    "\n",
    "for MODEL in model_set:\n",
    "    model = model_path + MODEL\n",
    "    \n",
    "\n",
    "\n",
    "    for f in range(1,2):\n",
    "    # the path of data\n",
    "        datapath = 'MQ2008/Fold{}/'.format(f)\n",
    "        train_path = datapath + 'train.txt'\n",
    "        test_path = datapath + 'test.txt'\n",
    "        modelname = model.split(\"_\")[0].split(\"/\")[-1]\n",
    "        dataname = datapath.split('/')[0] +'_'+ datapath.split('/')[1].split('Fold')[1]\n",
    "\n",
    "        # saving path and save files\n",
    "        NDCGdata_path = 'logs/'\n",
    "        feature_number = 5\n",
    "        method_name = NDCGdata_path.split('/')[1].split('-')[0]\n",
    "\n",
    "   \n",
    "\n",
    "        completeness_NDCG_file = NDCGdata_path+ '{}_validitybeam2_{}features{}.txt'.format(dataname,feature_number,modelname)\n",
    "        validity_NDCG_file = NDCGdata_path+ '{}_validitybeam2_complement{}.txt'.format(dataname,modelname)\n",
    "        f1_file = 'F1_files/'+ '{}_F1_{}_{}.txt'.format(dataname,method_name,modelname)\n",
    "        tau_set_completeness= []\n",
    "        with open(completeness_NDCG_file,'r') as oldfile:\n",
    "            for line in oldfile:\n",
    "                tau_set_completeness.append(-float(line.split('kendalltau=')[-1].split()[0]))\n",
    "        tau_set_validity= []\n",
    "        with open(validity_NDCG_file,'r') as oldfile:\n",
    "            for line in oldfile:\n",
    "                tau_set_validity.append(float(line.split('kendalltau=')[-1].split()[0]))\n",
    "        f1_sum = 0\n",
    "        f1_set = []\n",
    "        for i in range(len(tau_set_completeness)):\n",
    "            if tau_set_completeness[i] == 0:\n",
    "                c1 = 0\n",
    "            else:\n",
    "                c1 = 1/tau_set_completeness[i]\n",
    "            if tau_set_validity[i] == 0:\n",
    "                c2 = 0\n",
    "            else:\n",
    "                c2 = 1/tau_set_validity[i]     \n",
    "\n",
    "            f1 = c1 + c2\n",
    "            f1_set.append(f1)\n",
    "            with open(f1_file,'a') as ffile:\n",
    "                f1_line  = str(f1) + \"\\n\"\n",
    "                ffile.write(f1_line)\n",
    "            f1_sum += f1\n",
    "        average_f1 = f1_sum/len(tau_set_completeness)\n",
    "        with open(f1_file,'a') as ffile:\n",
    "                average_f1_line  = 'the average f1 is: ' + str(average_f1) + \"\\n\"\n",
    "                ffile.write(average_f1_line)\n",
    "        print(\"the average F1 is of {} is  {}\".format(modelname,average_f1))\n",
    "   "
   ]
  }
 ],
 "metadata": {
  "kernelspec": {
   "display_name": "Python 3",
   "language": "python",
   "name": "python3"
  },
  "language_info": {
   "codemirror_mode": {
    "name": "ipython",
    "version": 3
   },
   "file_extension": ".py",
   "mimetype": "text/x-python",
   "name": "python",
   "nbconvert_exporter": "python",
   "pygments_lexer": "ipython3",
   "version": "3.6.8"
  }
 },
 "nbformat": 4,
 "nbformat_minor": 2
}
