{
 "cells": [
  {
   "cell_type": "code",
   "execution_count": 1,
   "metadata": {},
   "outputs": [],
   "source": [
    "import numpy as np\n",
    "os.chdir(os.path.expanduser('..'))"
   ]
  },
  {
   "cell_type": "code",
   "execution_count": 21,
   "metadata": {},
   "outputs": [
    {
     "name": "stdout",
     "output_type": "stream",
     "text": [
      "the average iou is of Listnet is  0.01935483870967742\n"
     ]
    }
   ],
   "source": [
    "model_path = 'model/'\n",
    "model_set = ['Listnet_model.txt']\n",
    "#model_set = ['LambdaMART_model.txt','Ranknet_model.txt','coordinateascent_model.txt','Listnet_model.txt']\n",
    "for MODEL in model_set:\n",
    "    model = model_path + MODEL\n",
    "    modelname = model.split(\"_\")[0].split(\"/\")[-1]\n",
    "    # saving path and save files\n",
    "    NDCGdata_path1 = 'ideafeatures/'\n",
    "    NDCGdata_path2 = 'F3/pure_greedy_validity/'\n",
    "    completeness_NDCG_file = NDCGdata_path1+ 'MQ2008_1_Listnet_validity_ideafeatures.txt'\n",
    "    validity_NDCG_file = NDCGdata_path2+ 'MQ2008_1_purevalidity_10features{}.txt'.format(modelname)\n",
    "    \n",
    "    feature_set_completeness= []\n",
    "    with open(completeness_NDCG_file,'r') as oldfile:\n",
    "        for line in oldfile:\n",
    "            features = ((line.split(':[')[-1].split(']')[0])).split()\n",
    "            this_feature_set = [int(features[i].rstrip(',')) for i in range(len(features))]\n",
    "            feature_set_completeness.append(this_feature_set)\n",
    "    feature_set_validity= []\n",
    "    with open(validity_NDCG_file,'r') as oldfile:\n",
    "        for line in oldfile:\n",
    "            features = ((line.split(':[')[1].split(']')[0])).split()\n",
    "            this_feature_set = [int(features[i].rstrip(',')) for i in range(len(features))]\n",
    "            feature_set_validity.append(this_feature_set)\n",
    "    ratio_sum = 0\n",
    "    iou_number = 1\n",
    "    for i in range(len(feature_set_completeness)):\n",
    "        ratio = len(list(set(feature_set_completeness[i][:iou_number]).intersection(set(feature_set_validity[i][:iou_number]))))/len(set(feature_set_completeness[i][:iou_number]+feature_set_validity[i][:iou_number]))\n",
    "        ratio_sum += ratio\n",
    "    iou = ratio_sum/len(feature_set_completeness)\n",
    "    print(\"the average iou is of {} is  {}\".format(modelname,iou))\n",
    "            "
   ]
  }
 ],
 "metadata": {
  "kernelspec": {
   "display_name": "Python 3",
   "language": "python",
   "name": "python3"
  },
  "language_info": {
   "codemirror_mode": {
    "name": "ipython",
    "version": 3
   },
   "file_extension": ".py",
   "mimetype": "text/x-python",
   "name": "python",
   "nbconvert_exporter": "python",
   "pygments_lexer": "ipython3",
   "version": "3.6.8"
  }
 },
 "nbformat": 4,
 "nbformat_minor": 2
}
